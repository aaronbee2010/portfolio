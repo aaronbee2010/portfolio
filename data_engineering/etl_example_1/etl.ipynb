{
 "cells": [
  {
   "cell_type": "markdown",
   "id": "714e5af6",
   "metadata": {},
   "source": [
    "# ETL Example"
   ]
  },
  {
   "cell_type": "markdown",
   "id": "95bc214b",
   "metadata": {},
   "source": [
    "In this Jupyter notebook, two ETL (Extract, Transform, Load) pipelines are performed, one which extracts data from a table on a web page (**Webscraping**) and one which extracts data from a server using an **API**.\n",
    "\n",
    "Before running this notebook, please ensure the Python packages being loaded below are installed on your system."
   ]
  },
  {
   "cell_type": "code",
   "execution_count": 1,
   "id": "0ad9ebf0",
   "metadata": {},
   "outputs": [],
   "source": [
    "# Load the required libraries for this task\n",
    "\n",
    "from bs4 import BeautifulSoup\n",
    "import html5lib\n",
    "import requests\n",
    "import pandas as pd\n",
    "import json"
   ]
  },
  {
   "cell_type": "markdown",
   "id": "9d7442e5",
   "metadata": {},
   "source": [
    "## Example 1: Webscraping\n",
    "\n",
    "We will use the Wikipedia web page listing the largest banks in the world, based on total asset value."
   ]
  },
  {
   "cell_type": "markdown",
   "id": "dda8c3fc",
   "metadata": {},
   "source": [
    "### Extract"
   ]
  },
  {
   "cell_type": "code",
   "execution_count": 2,
   "id": "f0ce0ce6",
   "metadata": {},
   "outputs": [],
   "source": [
    "html_data = requests.get(\"https://en.wikipedia.org/wiki/List_of_largest_banks\").text\n",
    "\n",
    "# html_data"
   ]
  },
  {
   "cell_type": "markdown",
   "id": "43c1a487",
   "metadata": {},
   "source": [
    "### Transform"
   ]
  },
  {
   "cell_type": "code",
   "execution_count": 3,
   "id": "61fb6275",
   "metadata": {
    "scrolled": true
   },
   "outputs": [],
   "source": [
    "soup = BeautifulSoup(html_data, 'html5lib')\n",
    "\n",
    "soup = soup.find(id=\"By_total_assets\")\n",
    "soup = soup.parent\n",
    "soup = soup.next_sibling\n",
    "soup = soup.next_sibling\n",
    "soup = soup.next_sibling\n",
    "soup = soup.next_sibling\n",
    "soup = soup.next_sibling\n",
    "\n",
    "# soup"
   ]
  },
  {
   "cell_type": "code",
   "execution_count": 4,
   "id": "6cee8aad",
   "metadata": {},
   "outputs": [
    {
     "data": {
      "text/html": [
       "<div>\n",
       "<style scoped>\n",
       "    .dataframe tbody tr th:only-of-type {\n",
       "        vertical-align: middle;\n",
       "    }\n",
       "\n",
       "    .dataframe tbody tr th {\n",
       "        vertical-align: top;\n",
       "    }\n",
       "\n",
       "    .dataframe thead th {\n",
       "        text-align: right;\n",
       "    }\n",
       "</style>\n",
       "<table border=\"1\" class=\"dataframe\">\n",
       "  <thead>\n",
       "    <tr style=\"text-align: right;\">\n",
       "      <th></th>\n",
       "      <th>Rank</th>\n",
       "      <th>Bank name</th>\n",
       "      <th>Total assets as of 2021 (US$ billion)</th>\n",
       "    </tr>\n",
       "  </thead>\n",
       "  <tbody>\n",
       "    <tr>\n",
       "      <th>0</th>\n",
       "      <td>1</td>\n",
       "      <td>Industrial and Commercial Bank of China Limited</td>\n",
       "      <td>5,536.53</td>\n",
       "    </tr>\n",
       "    <tr>\n",
       "      <th>1</th>\n",
       "      <td>2</td>\n",
       "      <td>China Construction Bank</td>\n",
       "      <td>4,762.46</td>\n",
       "    </tr>\n",
       "    <tr>\n",
       "      <th>2</th>\n",
       "      <td>3</td>\n",
       "      <td>Agricultural Bank of China</td>\n",
       "      <td>4,575.95</td>\n",
       "    </tr>\n",
       "    <tr>\n",
       "      <th>3</th>\n",
       "      <td>4</td>\n",
       "      <td>Bank of China</td>\n",
       "      <td>4,206.53</td>\n",
       "    </tr>\n",
       "    <tr>\n",
       "      <th>4</th>\n",
       "      <td>5</td>\n",
       "      <td>JPMorgan Chase</td>\n",
       "      <td>3,743.57</td>\n",
       "    </tr>\n",
       "    <tr>\n",
       "      <th>...</th>\n",
       "      <td>...</td>\n",
       "      <td>...</td>\n",
       "      <td>...</td>\n",
       "    </tr>\n",
       "    <tr>\n",
       "      <th>95</th>\n",
       "      <td>96</td>\n",
       "      <td>Raiffeisen Gruppe</td>\n",
       "      <td>312.07</td>\n",
       "    </tr>\n",
       "    <tr>\n",
       "      <th>96</th>\n",
       "      <td>97</td>\n",
       "      <td>Swedbank</td>\n",
       "      <td>304.20</td>\n",
       "    </tr>\n",
       "    <tr>\n",
       "      <th>97</th>\n",
       "      <td>98</td>\n",
       "      <td>Bayerische Landesbank</td>\n",
       "      <td>303.14</td>\n",
       "    </tr>\n",
       "    <tr>\n",
       "      <th>98</th>\n",
       "      <td>99</td>\n",
       "      <td>Banco Bradesco</td>\n",
       "      <td>300.73</td>\n",
       "    </tr>\n",
       "    <tr>\n",
       "      <th>99</th>\n",
       "      <td>100</td>\n",
       "      <td>Qatar National Bank</td>\n",
       "      <td>300.24</td>\n",
       "    </tr>\n",
       "  </tbody>\n",
       "</table>\n",
       "<p>100 rows × 3 columns</p>\n",
       "</div>"
      ],
      "text/plain": [
       "   Rank                                        Bank name  \\\n",
       "0     1  Industrial and Commercial Bank of China Limited   \n",
       "1     2                          China Construction Bank   \n",
       "2     3                       Agricultural Bank of China   \n",
       "3     4                                    Bank of China   \n",
       "4     5                                   JPMorgan Chase   \n",
       "..  ...                                              ...   \n",
       "95   96                                Raiffeisen Gruppe   \n",
       "96   97                                         Swedbank   \n",
       "97   98                            Bayerische Landesbank   \n",
       "98   99                                   Banco Bradesco   \n",
       "99  100                              Qatar National Bank   \n",
       "\n",
       "   Total assets as of 2021 (US$ billion)  \n",
       "0                               5,536.53  \n",
       "1                               4,762.46  \n",
       "2                               4,575.95  \n",
       "3                               4,206.53  \n",
       "4                               3,743.57  \n",
       "..                                   ...  \n",
       "95                                312.07  \n",
       "96                                304.20  \n",
       "97                                303.14  \n",
       "98                                300.73  \n",
       "99                                300.24  \n",
       "\n",
       "[100 rows x 3 columns]"
      ]
     },
     "execution_count": 4,
     "metadata": {},
     "output_type": "execute_result"
    }
   ],
   "source": [
    "largest_banks_df = pd.DataFrame(columns=[\"Rank\", \"Bank name\", \"Total assets as of 2021 (US$ billion)\"])\n",
    "\n",
    "for row in soup.tbody.find_all(\"tr\"):\n",
    "    col = row.find_all(\"td\")\n",
    "    if (col != []):\n",
    "        rank = col[0].text.strip()\n",
    "        bank_name = col[1].text.strip()\n",
    "        total_assets = col[2].text.strip()\n",
    "        largest_banks_df = largest_banks_df.append({\n",
    "            \"Rank\": rank,\n",
    "            \"Bank name\": bank_name,\n",
    "            \"Total assets as of 2021 (US$ billion)\": total_assets\n",
    "        }, ignore_index=True)\n",
    "\n",
    "largest_banks_df"
   ]
  },
  {
   "cell_type": "markdown",
   "id": "62598949",
   "metadata": {},
   "source": [
    "### Load"
   ]
  },
  {
   "cell_type": "code",
   "execution_count": 5,
   "id": "b01d6ccf",
   "metadata": {},
   "outputs": [],
   "source": [
    "largest_banks_df.to_csv(\"largest_banks.csv\", index=False)\n",
    "largest_banks_df.to_json(\"largest_banks.json\")"
   ]
  },
  {
   "cell_type": "markdown",
   "id": "ebc7941b",
   "metadata": {},
   "source": [
    "# Example 2: API\n",
    "\n",
    "This example uses the APILayer Exchange Rates Data REST API to save ***current*** GBP exchange rate data to a Python object directly from a server."
   ]
  },
  {
   "cell_type": "markdown",
   "id": "29a3c02f",
   "metadata": {},
   "source": [
    "### Extract"
   ]
  },
  {
   "cell_type": "code",
   "execution_count": 6,
   "id": "5d00538f",
   "metadata": {
    "scrolled": true
   },
   "outputs": [],
   "source": [
    "# Write your code here\n",
    "# API key: H3WJWPpeIOyQxjOQdrEczX2RfmMAluTX\n",
    "\n",
    "url = \"https://api.apilayer.com/exchangerates_data/latest?base=GBP&apikey=H3WJWPpeIOyQxjOQdrEczX2RfmMAluTX\" #Make sure to change ******* to your API key.\n",
    "\n",
    "url_text = requests.get(url).text\n",
    "\n",
    "# url_text"
   ]
  },
  {
   "cell_type": "markdown",
   "id": "32129e21",
   "metadata": {},
   "source": [
    "### Transform"
   ]
  },
  {
   "cell_type": "code",
   "execution_count": 7,
   "id": "3c2b165b",
   "metadata": {
    "scrolled": true
   },
   "outputs": [
    {
     "data": {
      "text/html": [
       "<div>\n",
       "<style scoped>\n",
       "    .dataframe tbody tr th:only-of-type {\n",
       "        vertical-align: middle;\n",
       "    }\n",
       "\n",
       "    .dataframe tbody tr th {\n",
       "        vertical-align: top;\n",
       "    }\n",
       "\n",
       "    .dataframe thead th {\n",
       "        text-align: right;\n",
       "    }\n",
       "</style>\n",
       "<table border=\"1\" class=\"dataframe\">\n",
       "  <thead>\n",
       "    <tr style=\"text-align: right;\">\n",
       "      <th></th>\n",
       "      <th>Rate</th>\n",
       "    </tr>\n",
       "    <tr>\n",
       "      <th>Currency</th>\n",
       "      <th></th>\n",
       "    </tr>\n",
       "  </thead>\n",
       "  <tbody>\n",
       "    <tr>\n",
       "      <th>AED</th>\n",
       "      <td>4.465246</td>\n",
       "    </tr>\n",
       "    <tr>\n",
       "      <th>AFN</th>\n",
       "      <td>107.593267</td>\n",
       "    </tr>\n",
       "    <tr>\n",
       "      <th>ALL</th>\n",
       "      <td>129.934442</td>\n",
       "    </tr>\n",
       "    <tr>\n",
       "      <th>AMD</th>\n",
       "      <td>472.807093</td>\n",
       "    </tr>\n",
       "    <tr>\n",
       "      <th>ANG</th>\n",
       "      <td>2.193006</td>\n",
       "    </tr>\n",
       "    <tr>\n",
       "      <th>...</th>\n",
       "      <td>...</td>\n",
       "    </tr>\n",
       "    <tr>\n",
       "      <th>YER</th>\n",
       "      <td>304.335424</td>\n",
       "    </tr>\n",
       "    <tr>\n",
       "      <th>ZAR</th>\n",
       "      <td>22.113844</td>\n",
       "    </tr>\n",
       "    <tr>\n",
       "      <th>ZMK</th>\n",
       "      <td>10943.310097</td>\n",
       "    </tr>\n",
       "    <tr>\n",
       "      <th>ZMW</th>\n",
       "      <td>24.721988</td>\n",
       "    </tr>\n",
       "    <tr>\n",
       "      <th>ZWL</th>\n",
       "      <td>391.474592</td>\n",
       "    </tr>\n",
       "  </tbody>\n",
       "</table>\n",
       "<p>170 rows × 1 columns</p>\n",
       "</div>"
      ],
      "text/plain": [
       "                  Rate\n",
       "Currency              \n",
       "AED           4.465246\n",
       "AFN         107.593267\n",
       "ALL         129.934442\n",
       "AMD         472.807093\n",
       "ANG           2.193006\n",
       "...                ...\n",
       "YER         304.335424\n",
       "ZAR          22.113844\n",
       "ZMK       10943.310097\n",
       "ZMW          24.721988\n",
       "ZWL         391.474592\n",
       "\n",
       "[170 rows x 1 columns]"
      ]
     },
     "execution_count": 7,
     "metadata": {},
     "output_type": "execute_result"
    }
   ],
   "source": [
    "exchange_rate_dict = json.loads(url_text)['rates']\n",
    "\n",
    "# exchange_rate_dict\n",
    "\n",
    "exchange_rate_currencies = []\n",
    "exchange_rate_rates = []\n",
    "\n",
    "for currency in exchange_rate_dict.keys():\n",
    "    exchange_rate_currencies.append(currency)\n",
    "\n",
    "for rate in exchange_rate_dict.values():\n",
    "    exchange_rate_rates.append(rate)\n",
    "\n",
    "exchange_rate_dict2 = {\"Currency\": [], \"Rate\": []}\n",
    "exchange_rate_dict2[\"Currency\"] = exchange_rate_currencies\n",
    "exchange_rate_dict2[\"Rate\"] = exchange_rate_rates\n",
    "\n",
    "exchange_rate_df = pd.DataFrame(exchange_rate_dict2)\n",
    "\n",
    "exchange_rate_df2 = exchange_rate_df\n",
    "exchange_rate_df2 = exchange_rate_df2.set_index(\"Currency\")\n",
    "\n",
    "exchange_rate_df2"
   ]
  },
  {
   "cell_type": "markdown",
   "id": "1e92ad91",
   "metadata": {},
   "source": [
    "### Load"
   ]
  },
  {
   "cell_type": "code",
   "execution_count": 8,
   "id": "a2a4a55e",
   "metadata": {},
   "outputs": [],
   "source": [
    "exchange_rate_df2.to_csv(\"exchange_rate.csv\")\n",
    "exchange_rate_df2.to_json(\"exchange_rate.json\")"
   ]
  }
 ],
 "metadata": {
  "kernelspec": {
   "display_name": "Python 3 (ipykernel)",
   "language": "python",
   "name": "python3"
  },
  "language_info": {
   "codemirror_mode": {
    "name": "ipython",
    "version": 3
   },
   "file_extension": ".py",
   "mimetype": "text/x-python",
   "name": "python",
   "nbconvert_exporter": "python",
   "pygments_lexer": "ipython3",
   "version": "3.10.6"
  }
 },
 "nbformat": 4,
 "nbformat_minor": 5
}
